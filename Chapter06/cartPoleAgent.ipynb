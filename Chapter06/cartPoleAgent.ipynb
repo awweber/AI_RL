{
 "cells": [
  {
   "cell_type": "markdown",
   "id": "709a00c4",
   "metadata": {},
   "source": [
    "# Cart-Pole Agent Implementation\n",
    "\n",
    "- This module defines an `Agent` class for interacting with the Cart-Pole environment using reinforcement learning techniques."
   ]
  },
  {
   "cell_type": "code",
   "execution_count": 1,
   "id": "f2095703",
   "metadata": {},
   "outputs": [],
   "source": [
    "from typing import Any\n",
    "\n",
    "import gymnasium as gym\n",
    "import matplotlib.pyplot as plt  \n",
    "import numpy as np\n",
    "\n",
    "from keras.models import Sequential\n",
    "from keras.layers import Activation, Dense  \n",
    "from keras.optimizers import Adam  \n",
    "from keras.utils import to_categorical  "
   ]
  },
  {
   "cell_type": "markdown",
   "id": "29d56210",
   "metadata": {},
   "source": [
    "## Implementation of Agent Class"
   ]
  },
  {
   "cell_type": "code",
   "execution_count": 2,
   "id": "875d64c5",
   "metadata": {},
   "outputs": [],
   "source": [
    "class Agent:\n",
    "    def __init__(self, env: gym.Env) -> None:\n",
    "        self.env = env\n",
    "        self.observations: int = self.env.observation_space.shape[0] # input layer\n",
    "        self.actions: int = self.env.action_space.n # output layer\n",
    "        self.model: Sequential = self.get_model() # neural network\n",
    "\n",
    "    # Definition of the neural network model of the Agent[states -> actions]\n",
    "    def get_model(self) -> Sequential:\n",
    "        model = Sequential()\n",
    "        model.add(Dense(100, input_shape=(self.observations,), activation=\"relu\"))\n",
    "        model.add(Dense(self.actions, activation=\"softmax\"))\n",
    "        model.compile(optimizer=Adam(learning_rate=0.007), \n",
    "                      loss=\"categorical_crossentropy\", metrics=[\"accuracy\"])\n",
    "        return model\n",
    "\n",
    "    # Select an action based on the current state using the NN model\n",
    "    def get_action(self, state: Any) -> Any:\n",
    "        state = state.reshape(1, -1) # reshape state for the model  \n",
    "        # get action probabilities from the model i.e. [p(action_0), p(action_1), ...]\n",
    "        policy = self.model(state, training=False).numpy()[0] \n",
    "        return np.random.choice(self.actions, p=policy)\n",
    "    \n",
    "    # Collect samples (episodes) by running the agent in the environment\n",
    "    def get_samples(self, num_episodes: int) -> tuple[list[float], list[Any]]:\n",
    "        # list of total rewards for all episodes\n",
    "        rewards: list[float] = [0.0 for _ in range(num_episodes)]\n",
    "        # list of episodes (state, action) pairs\n",
    "        episodes: list[Any] = [[] for _ in range(num_episodes)]\n",
    "        # collect samples by running the agent in the environment (play episodes)\n",
    "        for episode in range(num_episodes):\n",
    "            state, _ = self.env.reset()\n",
    "            total_reward = 0.0\n",
    "            while True:\n",
    "                action = self.get_action(state)\n",
    "                new_state, reward, done, truncated, _ = self.env.step(action)\n",
    "                total_reward += reward\n",
    "                episodes[episode].append((state, action))\n",
    "                state = new_state\n",
    "                if done or truncated:\n",
    "                    rewards[episode] += total_reward\n",
    "                    break\n",
    "        return rewards, episodes\n",
    "    \n",
    "    # Filter the best episodes based on reward percentile\n",
    "    def filter_episodes(self, rewards: list[float], episodes: list[tuple[float, float]], percentile: float) -> tuple[np.ndarray, np.ndarray, float]:\n",
    "        # select episodes with rewards above the given percentile\n",
    "        rewards_boundaries = float(np.percentile(rewards, percentile))\n",
    "        x_train_: list[np.ndarray] = []\n",
    "        y_train_: list[np.ndarray] = []\n",
    "        for reward, episode in zip(rewards, episodes):\n",
    "            if reward >= rewards_boundaries:\n",
    "                for state, action in episode:\n",
    "                    observation = [step[0] for step in episode]\n",
    "                    action = [step[1] for step in episode]\n",
    "                    x_train_.extend(observation)\n",
    "                    y_train_.extend(action)\n",
    "        x_train = np.asarray(x_train_)\n",
    "        y_train = to_categorical(y_train_, num_classes=self.actions)\n",
    "        return x_train, y_train, rewards_boundaries\n",
    "\n",
    "    def train(self, percentile: float, num_iterations: int, num_episodes: int) -> tuple[list[float], list[float]]:\n",
    "        rewards_means: list[float] = []\n",
    "        rewards_boundaries: list[float] = []\n",
    "        for iteration in range(num_iterations):\n",
    "            rewards, episodes = self.get_samples(num_episodes) # collect samples\n",
    "            # filter samples based on reward boundary (keep only best episodes)\n",
    "            x_train, y_train, reward_boundary = self.filter_episodes(rewards, episodes, percentile)\n",
    "            # train the model on the filtered samples\n",
    "            self.model.train_on_batch(x_train, y_train)\n",
    "            # compute mean reward for reporting\n",
    "            reward_mean = float(np.mean(rewards))\n",
    "            print(\n",
    "                f\"Iteration: {iteration:2d} \"\n",
    "                f\"Reward Mean: {reward_mean:.4f} \"\n",
    "                f\"Reward Bound: {reward_boundary:.4f}\")\n",
    "            # store metrics\n",
    "            rewards_means.append(reward_mean)\n",
    "            rewards_boundaries.append(reward_boundary)\n",
    "        return rewards_means, rewards_boundaries\n",
    "    \n",
    "    # Play the environment using the trained agent\n",
    "    def play(self, episodes: int, render: bool = True) -> None:\n",
    "        for episode in range(episodes):\n",
    "            state, _ = self.env.reset()\n",
    "            total_reward = 0.0\n",
    "            # Play one episode\n",
    "            while True:\n",
    "                if render:\n",
    "                    self.env.render()\n",
    "                action = self.get_action(state)\n",
    "                state, reward, done, truncated, _ = self.env.step(action)\n",
    "                total_reward += reward\n",
    "                if done or truncated:\n",
    "                    break\n",
    "\n",
    "            print(f\"Episode: {episode} Total Reward: {total_reward}\")\n",
    "        self.env.close()\n"
   ]
  },
  {
   "cell_type": "markdown",
   "id": "44f5f4d2",
   "metadata": {},
   "source": [
    "## Initialize CartPole Environment and Agent"
   ]
  },
  {
   "cell_type": "code",
   "execution_count": 3,
   "id": "6432b476",
   "metadata": {},
   "outputs": [
    {
     "name": "stderr",
     "output_type": "stream",
     "text": [
      "/Users/alex/anaconda3/envs/ml/lib/python3.11/site-packages/keras/src/layers/core/dense.py:92: UserWarning: Do not pass an `input_shape`/`input_dim` argument to a layer. When using Sequential models, prefer using an `Input(shape)` object as the first layer in the model instead.\n",
      "  super().__init__(activity_regularizer=activity_regularizer, **kwargs)\n"
     ]
    }
   ],
   "source": [
    "# Initialize the CartPole environment\n",
    "env = gym.make(\"CartPole-v1\")\n",
    "\n",
    "# Initialize and train the agent\n",
    "agent = Agent(env)"
   ]
  },
  {
   "cell_type": "markdown",
   "id": "a9ac2cc6",
   "metadata": {},
   "source": [
    "## Training Loop for the Agent"
   ]
  },
  {
   "cell_type": "code",
   "execution_count": 4,
   "id": "f0f03ba3",
   "metadata": {},
   "outputs": [
    {
     "name": "stdout",
     "output_type": "stream",
     "text": [
      "Iteration:  0 Reward Mean: 23.0300 Reward Bound: 26.0000\n",
      "Iteration:  1 Reward Mean: 26.1200 Reward Bound: 30.3000\n",
      "Iteration:  2 Reward Mean: 33.4600 Reward Bound: 40.0000\n",
      "Iteration:  3 Reward Mean: 35.2100 Reward Bound: 40.3000\n",
      "Iteration:  4 Reward Mean: 37.2400 Reward Bound: 44.6000\n",
      "Iteration:  5 Reward Mean: 42.6700 Reward Bound: 50.3000\n",
      "Iteration:  6 Reward Mean: 46.4400 Reward Bound: 50.3000\n",
      "Iteration:  7 Reward Mean: 52.9300 Reward Bound: 57.0000\n",
      "Iteration:  8 Reward Mean: 52.6600 Reward Bound: 58.3000\n",
      "Iteration:  9 Reward Mean: 63.7200 Reward Bound: 73.6000\n",
      "Iteration: 10 Reward Mean: 60.0400 Reward Bound: 70.3000\n",
      "Iteration: 11 Reward Mean: 66.0200 Reward Bound: 80.3000\n",
      "Iteration: 12 Reward Mean: 71.3300 Reward Bound: 87.3000\n",
      "Iteration: 13 Reward Mean: 70.0100 Reward Bound: 79.0000\n",
      "Iteration: 14 Reward Mean: 77.6300 Reward Bound: 89.6000\n",
      "Iteration: 15 Reward Mean: 88.0000 Reward Bound: 98.6000\n",
      "Iteration: 16 Reward Mean: 95.4000 Reward Bound: 110.3000\n",
      "Iteration: 17 Reward Mean: 100.4700 Reward Bound: 117.3000\n",
      "Iteration: 18 Reward Mean: 123.4200 Reward Bound: 159.9000\n",
      "Iteration: 19 Reward Mean: 142.3900 Reward Bound: 169.9000\n",
      "Iteration: 20 Reward Mean: 163.7700 Reward Bound: 190.3000\n",
      "Iteration: 21 Reward Mean: 169.4500 Reward Bound: 181.6000\n",
      "Iteration: 22 Reward Mean: 182.7300 Reward Bound: 216.3000\n",
      "Iteration: 23 Reward Mean: 209.7700 Reward Bound: 239.6000\n",
      "Iteration: 24 Reward Mean: 232.2900 Reward Bound: 282.6000\n",
      "Iteration: 25 Reward Mean: 268.1300 Reward Bound: 311.0000\n",
      "Iteration: 26 Reward Mean: 329.0900 Reward Bound: 429.2000\n",
      "Iteration: 27 Reward Mean: 373.0500 Reward Bound: 500.0000\n",
      "Iteration: 28 Reward Mean: 375.3300 Reward Bound: 500.0000\n",
      "Iteration: 29 Reward Mean: 380.1800 Reward Bound: 491.3000\n"
     ]
    }
   ],
   "source": [
    "reward_means, reward_boundaries = agent.train(\n",
    "    percentile=70, \n",
    "    num_iterations=30, \n",
    "    num_episodes=100)"
   ]
  },
  {
   "cell_type": "markdown",
   "id": "22358b19",
   "metadata": {},
   "source": [
    "## Visualizing Training Results"
   ]
  },
  {
   "cell_type": "code",
   "execution_count": 5,
   "id": "1ba9e6bc",
   "metadata": {},
   "outputs": [
    {
     "data": {
      "image/png": "[encoded data removed]",
      "text/plain": [
       "<Figure size 640x480 with 1 Axes>"
      ]
     },
     "metadata": {},
     "output_type": "display_data"
    }
   ],
   "source": [
    "plt.title(\"Training Metrics\")\n",
    "plt.plot(range(len(reward_means)), reward_means, label=\"Reward Mean\")\n",
    "plt.plot(range(len(reward_boundaries)), reward_boundaries, label=\"Reward Boundary (70th Percentile)\")\n",
    "plt.xlabel(\"Training Iterations\")\n",
    "plt.ylabel(\"Reward\")\n",
    "plt.legend()\n",
    "plt.show()"
   ]
  },
  {
   "cell_type": "markdown",
   "id": "09a9d57c",
   "metadata": {},
   "source": [
    "## Visualization of Playing the Environment by the Trained Agent"
   ]
  },
  {
   "cell_type": "code",
   "execution_count": 7,
   "id": "4dc5d8e5",
   "metadata": {},
   "outputs": [
    {
     "name": "stderr",
     "output_type": "stream",
     "text": [
      "/Users/alex/anaconda3/envs/ml/lib/python3.11/site-packages/keras/src/layers/core/dense.py:92: UserWarning: Do not pass an `input_shape`/`input_dim` argument to a layer. When using Sequential models, prefer using an `Input(shape)` object as the first layer in the model instead.\n",
      "  super().__init__(activity_regularizer=activity_regularizer, **kwargs)\n"
     ]
    },
    {
     "data": {
      "text/html": [
       "<pre style=\"white-space:pre;overflow-x:auto;line-height:normal;font-family:Menlo,'DejaVu Sans Mono',consolas,'Courier New',monospace\"><span style=\"font-weight: bold\">Model: \"sequential\"</span>\n",
       "</pre>\n"
      ],
      "text/plain": [
       "\u001b[1mModel: \"sequential\"\u001b[0m\n"
      ]
     },
     "metadata": {},
     "output_type": "display_data"
    },
    {
     "data": {
      "text/html": [
       "<pre style=\"white-space:pre;overflow-x:auto;line-height:normal;font-family:Menlo,'DejaVu Sans Mono',consolas,'Courier New',monospace\">┏━━━━━━━━━━━━━━━━━━━━━━━━━━━━━━━━━┳━━━━━━━━━━━━━━━━━━━━━━━━┳━━━━━━━━━━━━━━━┓\n",
       "┃<span style=\"font-weight: bold\"> Layer (type)                    </span>┃<span style=\"font-weight: bold\"> Output Shape           </span>┃<span style=\"font-weight: bold\">       Param # </span>┃\n",
       "┡━━━━━━━━━━━━━━━━━━━━━━━━━━━━━━━━━╇━━━━━━━━━━━━━━━━━━━━━━━━╇━━━━━━━━━━━━━━━┩\n",
       "│ dense (<span style=\"color: #0087ff; text-decoration-color: #0087ff\">Dense</span>)                   │ (<span style=\"color: #00d7ff; text-decoration-color: #00d7ff\">None</span>, <span style=\"color: #00af00; text-decoration-color: #00af00\">100</span>)            │           <span style=\"color: #00af00; text-decoration-color: #00af00\">500</span> │\n",
       "├─────────────────────────────────┼────────────────────────┼───────────────┤\n",
       "│ dense_1 (<span style=\"color: #0087ff; text-decoration-color: #0087ff\">Dense</span>)                 │ (<span style=\"color: #00d7ff; text-decoration-color: #00d7ff\">None</span>, <span style=\"color: #00af00; text-decoration-color: #00af00\">2</span>)              │           <span style=\"color: #00af00; text-decoration-color: #00af00\">202</span> │\n",
       "└─────────────────────────────────┴────────────────────────┴───────────────┘\n",
       "</pre>\n"
      ],
      "text/plain": [
       "┏━━━━━━━━━━━━━━━━━━━━━━━━━━━━━━━━━┳━━━━━━━━━━━━━━━━━━━━━━━━┳━━━━━━━━━━━━━━━┓\n",
       "┃\u001b[1m \u001b[0m\u001b[1mLayer (type)                   \u001b[0m\u001b[1m \u001b[0m┃\u001b[1m \u001b[0m\u001b[1mOutput Shape          \u001b[0m\u001b[1m \u001b[0m┃\u001b[1m \u001b[0m\u001b[1m      Param #\u001b[0m\u001b[1m \u001b[0m┃\n",
       "┡━━━━━━━━━━━━━━━━━━━━━━━━━━━━━━━━━╇━━━━━━━━━━━━━━━━━━━━━━━━╇━━━━━━━━━━━━━━━┩\n",
       "│ dense (\u001b[38;5;33mDense\u001b[0m)                   │ (\u001b[38;5;45mNone\u001b[0m, \u001b[38;5;34m100\u001b[0m)            │           \u001b[38;5;34m500\u001b[0m │\n",
       "├─────────────────────────────────┼────────────────────────┼───────────────┤\n",
       "│ dense_1 (\u001b[38;5;33mDense\u001b[0m)                 │ (\u001b[38;5;45mNone\u001b[0m, \u001b[38;5;34m2\u001b[0m)              │           \u001b[38;5;34m202\u001b[0m │\n",
       "└─────────────────────────────────┴────────────────────────┴───────────────┘\n"
      ]
     },
     "metadata": {},
     "output_type": "display_data"
    },
    {
     "data": {
      "text/html": [
       "<pre style=\"white-space:pre;overflow-x:auto;line-height:normal;font-family:Menlo,'DejaVu Sans Mono',consolas,'Courier New',monospace\"><span style=\"font-weight: bold\"> Total params: </span><span style=\"color: #00af00; text-decoration-color: #00af00\">2,108</span> (8.24 KB)\n",
       "</pre>\n"
      ],
      "text/plain": [
       "\u001b[1m Total params: \u001b[0m\u001b[38;5;34m2,108\u001b[0m (8.24 KB)\n"
      ]
     },
     "metadata": {},
     "output_type": "display_data"
    },
    {
     "data": {
      "text/html": [
       "<pre style=\"white-space:pre;overflow-x:auto;line-height:normal;font-family:Menlo,'DejaVu Sans Mono',consolas,'Courier New',monospace\"><span style=\"font-weight: bold\"> Trainable params: </span><span style=\"color: #00af00; text-decoration-color: #00af00\">702</span> (2.74 KB)\n",
       "</pre>\n"
      ],
      "text/plain": [
       "\u001b[1m Trainable params: \u001b[0m\u001b[38;5;34m702\u001b[0m (2.74 KB)\n"
      ]
     },
     "metadata": {},
     "output_type": "display_data"
    },
    {
     "data": {
      "text/html": [
       "<pre style=\"white-space:pre;overflow-x:auto;line-height:normal;font-family:Menlo,'DejaVu Sans Mono',consolas,'Courier New',monospace\"><span style=\"font-weight: bold\"> Non-trainable params: </span><span style=\"color: #00af00; text-decoration-color: #00af00\">0</span> (0.00 B)\n",
       "</pre>\n"
      ],
      "text/plain": [
       "\u001b[1m Non-trainable params: \u001b[0m\u001b[38;5;34m0\u001b[0m (0.00 B)\n"
      ]
     },
     "metadata": {},
     "output_type": "display_data"
    },
    {
     "data": {
      "text/html": [
       "<pre style=\"white-space:pre;overflow-x:auto;line-height:normal;font-family:Menlo,'DejaVu Sans Mono',consolas,'Courier New',monospace\"><span style=\"font-weight: bold\"> Optimizer params: </span><span style=\"color: #00af00; text-decoration-color: #00af00\">1,406</span> (5.50 KB)\n",
       "</pre>\n"
      ],
      "text/plain": [
       "\u001b[1m Optimizer params: \u001b[0m\u001b[38;5;34m1,406\u001b[0m (5.50 KB)\n"
      ]
     },
     "metadata": {},
     "output_type": "display_data"
    }
   ],
   "source": [
    "env = gym.make(\"CartPole-v1\", render_mode=\"human\")\n",
    "trained_agent = Agent(env)\n",
    "trained_agent.model = agent.model  # Use the trained model\n",
    "trained_agent.model.summary()"
   ]
  },
  {
   "cell_type": "code",
   "execution_count": null,
   "id": "bb53e1c6",
   "metadata": {},
   "outputs": [
    {
     "ename": "NameError",
     "evalue": "name 'trained_agent' is not defined",
     "output_type": "error",
     "traceback": [
      "\u001b[31m---------------------------------------------------------------------------\u001b[39m",
      "\u001b[31mNameError\u001b[39m                                 Traceback (most recent call last)",
      "\u001b[36mCell\u001b[39m\u001b[36m \u001b[39m\u001b[32mIn[2]\u001b[39m\u001b[32m, line 1\u001b[39m\n\u001b[32m----> \u001b[39m\u001b[32m1\u001b[39m \u001b[43mtrained_agent\u001b[49m.play(episodes=\u001b[32m1\u001b[39m, render=\u001b[38;5;28;01mTrue\u001b[39;00m)\n\u001b[32m      2\u001b[39m env.close()\n",
      "\u001b[31mNameError\u001b[39m: name 'trained_agent' is not defined"
     ]
    }
   ],
   "source": [
    "trained_agent.play(episodes=1, render=True)"
   ]
  }
 ],
 "metadata": {
  "kernelspec": {
   "display_name": "ml",
   "language": "python",
   "name": "python3"
  },
  "language_info": {
   "codemirror_mode": {
    "name": "ipython",
    "version": 3
   },
   "file_extension": ".py",
   "mimetype": "text/x-python",
   "name": "python",
   "nbconvert_exporter": "python",
   "pygments_lexer": "ipython3",
   "version": "3.11.13"
  }
 },
 "nbformat": 4,
 "nbformat_minor": 5
}
